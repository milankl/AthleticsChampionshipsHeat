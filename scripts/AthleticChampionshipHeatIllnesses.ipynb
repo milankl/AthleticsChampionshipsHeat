{
 "cells": [
  {
   "cell_type": "markdown",
   "metadata": {},
   "source": [
    "# Heat illnesses during European and World Championships in Athletics\n",
    "\n",
    "Notebook that visualises the number of various heat-related illnesses against different daily heat indices based on the Universal Thermal Climate Index (UTCI).\n"
   ]
  },
  {
   "cell_type": "markdown",
   "metadata": {},
   "source": [
    "Ignore this:"
   ]
  },
  {
   "cell_type": "code",
   "execution_count": 1,
   "metadata": {},
   "outputs": [
    {
     "data": {
      "application/javascript": [
       "IPython.OutputArea.prototype._should_scroll = function(lines) {\n",
       "    return false;\n",
       "}\n"
      ],
      "text/plain": [
       "<IPython.core.display.Javascript object>"
      ]
     },
     "metadata": {},
     "output_type": "display_data"
    }
   ],
   "source": [
    "%%javascript\n",
    "IPython.OutputArea.prototype._should_scroll = function(lines) {\n",
    "    return false;\n",
    "}"
   ]
  },
  {
   "cell_type": "markdown",
   "metadata": {},
   "source": [
    "## 1. Load the data"
   ]
  },
  {
   "cell_type": "code",
   "execution_count": 2,
   "metadata": {},
   "outputs": [],
   "source": [
    "# IMPORT PACKAGES\n",
    "import numpy as np\n",
    "import pandas as pd\n",
    "import matplotlib.pyplot as plt\n",
    "from scipy import optimize\n",
    "\n",
    "path = \"/Users/milan/git/AthleticsChampionshipsHeat/data/\"\n",
    "\n",
    "DF = pd.read_excel(path+\"IllnessesHeat_10Sep.xlsx\")\n",
    "\n",
    "def ABC2index(S):\n",
    "    i=0\n",
    "    for j,s in enumerate(list(S)):\n",
    "        i += j*26+(ord(s)-65)\n",
    "    \n",
    "    return i"
   ]
  },
  {
   "cell_type": "code",
   "execution_count": 3,
   "metadata": {
    "scrolled": true
   },
   "outputs": [],
   "source": [
    "# LOAD HEAT ILLNESS DATA\n",
    "n_heatillness = DF.values[:,ABC2index(\"O\")].astype(np.float)  # number of all heat associated illnesses\n",
    "n_heatillnsev = DF.values[:,ABC2index(\"T\")].astype(np.float)  # number of severe heat illnesses\n",
    "n_dehydration = DF.values[:,ABC2index(\"Y\")].astype(np.float)  # number of dehydration\n",
    "n_others      = DF.values[:,ABC2index(\"AD\")].astype(np.float)  # number of other illnesses\n",
    "\n",
    "di_heatillness = DF.values[:,ABC2index(\"AI\")].astype(np.float)  # daily incidences of above\n",
    "di_heatillnsev = DF.values[:,ABC2index(\"AN\")].astype(np.float)\n",
    "di_dehydration = DF.values[:,ABC2index(\"AS\")].astype(np.float)\n",
    "di_others      = DF.values[:,ABC2index(\"AX\")].astype(np.float)\n",
    "di_all         = DF.values[:,ABC2index(\"N\")].astype(np.float) / DF.values[:,ABC2index(\"E\")].astype(np.float) * 1000\n",
    "\n",
    "ill_long_names = [\"Number of all heat associated illnesses\",\n",
    "                    \"Number of severe heat illnesses\",\n",
    "                    \"Number of dehydration\",\n",
    "                    \"Number of other illnesses\",\n",
    "                    \"Daily incidences of heat associated illnesses\",\n",
    "                    \"Daily incidences of severe heat illnesses\",\n",
    "                    \"Daily incidences of dehydration\",\n",
    "                    \"Daily incidences of other heat illnesses\",\n",
    "                    \"Daily incidences of all illnesses\"]"
   ]
  },
  {
   "cell_type": "code",
   "execution_count": 4,
   "metadata": {},
   "outputs": [],
   "source": [
    "# LOAD UTCI DATA\n",
    "ndays = len(n_heatillness)\n",
    "UTCImax = np.zeros((ndays,3))    # time x (expected, min, max)\n",
    "UTCImaxs = np.zeros((ndays,5,5))\n",
    "UTCImean = np.zeros((ndays,3))\n",
    "UTCI3day = np.zeros((ndays,3))\n",
    "UTCIdiff = np.zeros((ndays,3))\n",
    "\n",
    "events = [\"berlin2009\",\"daegu2011\",\"helsinki2012\", \"moscow2013\",\"zuerich2014\",\n",
    "          \"amsterdam2016\",\"berlin2018\"]\n",
    "events_long = [\"Berlin 2009\",\"Daegu 2011\",\"Helsinki 2012\",\"Moscow 2013\",\"Zürich 2014\",\n",
    "        \"Amsterdam 2016\", \"Berlin 2018\"]\n",
    "nevents = len(events)\n",
    "ndays_per_event = [0,]*nevents\n",
    "\n",
    "i = 0\n",
    "for ifile,file in enumerate(events):\n",
    "    # expected\n",
    "    ma = np.load(path+file+\"utci_daily.npz\")[\"UTCI_dailymax\"]\n",
    "    me = np.load(path+file+\"utci_daily.npz\")[\"UTCI_dailymean\"]\n",
    "    td = np.load(path+file+\"utci_daily.npz\")[\"UTCI_3daymean\"]\n",
    "    di = np.load(path+file+\"utci_daily.npz\")[\"UTCI_dailydiff\"]\n",
    "    \n",
    "    n = len(ma)\n",
    "    ndays_per_event[ifile] = n\n",
    "    \n",
    "    UTCImax[i:i+n,0] = ma\n",
    "    UTCImean[i:i+n,0] = me\n",
    "    UTCI3day[i:i+n,0] = td\n",
    "    UTCIdiff[i:i+n,0] = di\n",
    "    \n",
    "    # all\n",
    "    UTCImaxs[i:i+n,:,:] = np.load(path+file+\"utci_daily_maxs.npz\")[\"UTCI_dailymaxs\"]\n",
    "    \n",
    "    # uncertainty - minimum\n",
    "    ma = np.load(path+file+\"utci_daily.npz\")[\"UTCI_dailymax0\"]\n",
    "    me = np.load(path+file+\"utci_daily.npz\")[\"UTCI_dailymean0\"]\n",
    "    td = np.load(path+file+\"utci_daily.npz\")[\"UTCI_3daymean0\"]\n",
    "    di = np.load(path+file+\"utci_daily.npz\")[\"UTCI_dailydiff0\"]\n",
    "    \n",
    "    UTCImax[i:i+n,1] = ma\n",
    "    UTCImean[i:i+n,1] = me\n",
    "    UTCI3day[i:i+n,1] = td\n",
    "    UTCIdiff[i:i+n,1] = di\n",
    "    \n",
    "    # uncertainty - maximum\n",
    "    ma = np.load(path+file+\"utci_daily.npz\")[\"UTCI_dailymax1\"]\n",
    "    me = np.load(path+file+\"utci_daily.npz\")[\"UTCI_dailymean1\"]\n",
    "    td = np.load(path+file+\"utci_daily.npz\")[\"UTCI_3daymean1\"]\n",
    "    di = np.load(path+file+\"utci_daily.npz\")[\"UTCI_dailydiff1\"]\n",
    "    \n",
    "    UTCImax[i:i+n,2] = ma\n",
    "    UTCImean[i:i+n,2] = me\n",
    "    UTCI3day[i:i+n,2] = td\n",
    "    UTCIdiff[i:i+n,2] = di\n",
    "    \n",
    "    i += n\n",
    "\n",
    "nidxs = np.concatenate([[0],np.cumsum(ndays_per_event)])\n",
    "\n",
    "# sea points are 1e20, mask out\n",
    "UTCImaxs = np.ma.masked_array(UTCImaxs,mask=UTCImaxs == 1e20)"
   ]
  },
  {
   "cell_type": "markdown",
   "metadata": {},
   "source": [
    "## 2. Plot all the data\n",
    "\n",
    "In the following circles denote the respective UTCI-value as close to the stadium as possible. As there is some uncertainty from the climate data as well as in the whereabouts of the athletets, we estimate the uncertainty in the UTCI-values from the range of values within about 25km from the stadium. For Helsinki and Amsterdam, as both stadiums are in the vicinity of water bodies (which can have a large impact on the felt temperature), this yields larger uncertainties than for e.g. Moscow or Berlin. The minimum and maximum of this range is plottet as thin lines."
   ]
  },
  {
   "cell_type": "code",
   "execution_count": null,
   "metadata": {
    "scrolled": true
   },
   "outputs": [],
   "source": [
    "# PLOTTING EVERYTHING\n",
    "colours = [\"C0\",\"C1\",\"forestgreen\",\"C3\",\"C4\",\"mediumaquamarine\",\"k\"]\n",
    "ylabels = [\"# of illnesses\",]*4+[\"daily incidence\",]*5\n",
    "\n",
    "for i_ill,ill in enumerate([n_heatillness,n_heatillnsev,n_dehydration,n_others,\n",
    "                            di_heatillness,di_heatillnsev,di_dehydration,di_others,\n",
    "                            di_all]):\n",
    "\n",
    "    fig,axs = plt.subplots(2,2,sharey=True,figsize=(10,8))\n",
    "    alfa=0.7\n",
    "    lws=1.0\n",
    "\n",
    "    # scatterpoints for expected\n",
    "    for i in range(nevents):\n",
    "        j0,j1 = nidxs[i],nidxs[i+1]\n",
    "        axs[0,0].scatter(UTCImax[j0:j1,0],ill[j0:j1],50,color=colours[i],alpha=alfa,label=events_long[i])\n",
    "        axs[0,1].scatter(UTCImean[j0:j1,0],ill[j0:j1],50,color=colours[i],alpha=alfa)\n",
    "        axs[1,0].scatter(UTCI3day[j0:j1,0],ill[j0:j1],50,color=colours[i],alpha=alfa)\n",
    "        axs[1,1].scatter(UTCIdiff[j0:j1,0],ill[j0:j1],50,color=colours[i],alpha=alfa)\n",
    "\n",
    "    # lines for uncertainty\n",
    "    for i in range(nevents):\n",
    "        j0,j1 = nidxs[i],nidxs[i+1]\n",
    "        axs[0,0].plot(UTCImax[j0:j1,1:].T,np.array([ill[j0:j1]]*2),colours[i],lw=lws)\n",
    "        axs[0,1].plot(UTCImean[j0:j1,1:].T,np.array([ill[j0:j1]]*2),colours[i],lw=lws)\n",
    "        axs[1,0].plot(UTCI3day[j0:j1,1:].T,np.array([ill[j0:j1]]*2),colours[i],lw=lws)\n",
    "        axs[1,1].plot(UTCIdiff[j0:j1,1:].T,np.array([ill[j0:j1]]*2),colours[i],lw=lws)\n",
    "\n",
    "    axs[0,0].set_title(\"Daily maximum UTCI\",loc=\"left\")\n",
    "    axs[0,1].set_title(\"Daily mean UTCI\",loc=\"left\")\n",
    "    axs[1,0].set_title(\"3-day mean UTCI\",loc=\"left\")\n",
    "    axs[1,1].set_title(\"Daily difference UTCI\",loc=\"left\")\n",
    "\n",
    "    axs[0,0].set_title(\"a\",loc=\"right\",fontweight=\"bold\")\n",
    "    axs[0,1].set_title(\"b\",loc=\"right\",fontweight=\"bold\")\n",
    "    axs[1,0].set_title(\"c\",loc=\"right\",fontweight=\"bold\")\n",
    "    axs[1,1].set_title(\"d\",loc=\"right\",fontweight=\"bold\")\n",
    "\n",
    "    axs[1,0].set_xlabel(\"˚C\")\n",
    "    axs[1,1].set_xlabel(\"˚C\")\n",
    "\n",
    "    axs[0,0].set_ylabel(ylabels[i_ill])\n",
    "    axs[1,0].set_ylabel(ylabels[i_ill])\n",
    "\n",
    "    axs[0,0].legend(loc=2,ncol=1,fontsize=9,scatterpoints=3)\n",
    "    plt.suptitle(ill_long_names[i_ill],x=0,y=1.01,ha=\"left\",fontweight=\"bold\")\n",
    "    plt.tight_layout()\n",
    "    \n",
    "    plt.show()"
   ]
  },
  {
   "cell_type": "markdown",
   "metadata": {},
   "source": [
    "# 3. Linear/quadratic fit to data\n",
    "\n",
    "1. Create UTCI bins, e.g. 4 or 5 ˚C\n",
    "2. Sample randomly from the UTCI distribution for every event day\n",
    "3. Put the data into the bins from 1.\n",
    "4. Calculate the e.g. 10% risk of daily incidences\n",
    "5. Statistically fit the 10% risk of daily incidences to bin-mids via linear/quadratic fit.\n",
    "6. Repeat 1.-5. N times, as well as for the best-estimate (the central grid point, which is closest to the stadium).\n",
    "7. Plot the best-estimate fit, as well as the 10-90% range of N fits."
   ]
  },
  {
   "cell_type": "code",
   "execution_count": 5,
   "metadata": {},
   "outputs": [],
   "source": [
    "# heat illness risk model, lin/quad with constraint that vertex has to be on x-axis.\n",
    "def risk_lin(x,a,T0):\n",
    "    return a*(x-T0)\n",
    "\n",
    "def risk_quad(x,a,T0):\n",
    "    return a*(x-T0)**2\n",
    "\n",
    "# residual functions for least squares estimation\n",
    "def residual_lin(p,x,y):\n",
    "    return y-risk_lin(x,*p)\n",
    "\n",
    "def residual_quad(p,x,y):\n",
    "    return y-risk_quad(x,*p)"
   ]
  },
  {
   "cell_type": "code",
   "execution_count": 6,
   "metadata": {},
   "outputs": [
    {
     "name": "stderr",
     "output_type": "stream",
     "text": [
      "/Users/milan/miniconda3/lib/python3.7/site-packages/scipy/optimize/minpack.py:475: RuntimeWarning: Number of calls to function has reached maxfev = 600.\n",
      "  warnings.warn(errors[info][0], RuntimeWarning)\n"
     ]
    }
   ],
   "source": [
    "# least squares estimation\n",
    "prisks = [10,50]                # risk [%] of daily incidence considered\n",
    "xall = np.linspace(10,40,100)   # evaluate models on these points\n",
    "\n",
    "# uncertainty\n",
    "p0 = [0.,15.]\n",
    "mcn = 1000   # number of monte carlo draws\n",
    "fits0 = np.empty((len(xall),mcn,len(prisks)))     # heat-related conditions\n",
    "fits1 = np.empty((len(xall),mcn,len(prisks)))     # heat illnesses\n",
    "fits2 = np.empty((len(xall),mcn,len(prisks)))     # all illnesses\n",
    "\n",
    "for ip,prisk in enumerate(prisks):       # loop over different risk levels\n",
    "    for n in range(mcn):                 # monte carlo mcn times\n",
    "        UTCIrand = np.empty(ndays)       # pick random UTCI from grid points for each event day\n",
    "        for ii in range(ndays):\n",
    "            xy = np.random.randint(0,25)\n",
    "            while UTCImaxs[ii,:,:].flatten().mask[xy]: # check that we don't pick a masked sea-point\n",
    "                xy = np.random.randint(0,25)           # if masked, pull another random grid point\n",
    "\n",
    "            UTCIrand[ii] = UTCImaxs[ii,:,:].flatten().data[xy]\n",
    "\n",
    "        # pick bins based on sorting the temperatures\n",
    "        npoints = np.random.randint(5,11)    # reasonable binsizes\n",
    "        bins = np.sort(UTCIrand)[::npoints]\n",
    "        bins[-1] = np.max(UTCIrand)          # extend last bin to be inclusive with max\n",
    "        nbins = len(bins)-1                  # number of bins\n",
    "        binmids = np.empty(nbins)    # bin centres\n",
    "\n",
    "        diheatc = np.empty(nbins)     # daily incidence per bin at prisk risk level\n",
    "        diheati = np.empty(nbins)     # for illnesses too\n",
    "        diall = np.empty(nbins)       # for all illnesses\n",
    "\n",
    "        for i in range(nbins):\n",
    "            which_utcis = np.logical_and(UTCIrand > bins[i],UTCIrand <= bins[i+1])\n",
    "            ninbins = np.sum(which_utcis)\n",
    "            \n",
    "            # incidence rates have a 2std of +-1 error\n",
    "            diheatc_in_bin = di_heatillness[which_utcis] + 0.5*np.random.randn(ninbins)\n",
    "            diheati_in_bin = di_heatillnsev[which_utcis] + 0.5*np.random.randn(ninbins)\n",
    "            diall_in_bin = di_others[which_utcis] + 0.5*np.random.randn(ninbins)\n",
    "            \n",
    "            # clip distributions at 0\n",
    "            diheatc_in_bin = np.maximum(diheatc_in_bin,0)\n",
    "            diheati_in_bin = np.maximum(diheati_in_bin,0)\n",
    "            diall_in_bin = np.maximum(diall_in_bin,0)\n",
    "            \n",
    "            binmids[i] = np.mean(UTCIrand[which_utcis])\n",
    "            \n",
    "            if np.sum(which_utcis) == 0:\n",
    "                print(prisk,n,i,diheat_in_bin)\n",
    "            \n",
    "            diheatc[i] = np.percentile(diheatc_in_bin,100-prisk)\n",
    "            diheati[i] = np.percentile(diheati_in_bin,100-prisk)\n",
    "            diall[i] = np.percentile(diall_in_bin,100-prisk)\n",
    "\n",
    "        # use either linear or quadratic model here\n",
    "        p0est = optimize.leastsq(residual_lin, p0, args=(binmids, diheatc))[0]       # heat-related conditions\n",
    "        p1est = optimize.leastsq(residual_lin, p0, args=(binmids, diheati))[0]       # heat illnesses\n",
    "        p2est = optimize.leastsq(residual_lin, p0, args=(binmids, diall))[0]        # all illnesses\n",
    "        \n",
    "        fits0[:,n,ip] = risk_lin(xall,*p0est)\n",
    "        fits1[:,n,ip] = risk_lin(xall,*p1est)\n",
    "        fits2[:,n,ip] = risk_lin(xall,*p2est)\n"
   ]
  },
  {
   "cell_type": "code",
   "execution_count": null,
   "metadata": {},
   "outputs": [],
   "source": []
  },
  {
   "cell_type": "code",
   "execution_count": 7,
   "metadata": {},
   "outputs": [],
   "source": [
    "pestd = optimize.leastsq(residual_lin, p0, args=(UTCImax[:,0],di_heatillnsev))[0]\n",
    "fitd = risk_lin(xall,*pestd)"
   ]
  },
  {
   "cell_type": "code",
   "execution_count": 19,
   "metadata": {
    "scrolled": true
   },
   "outputs": [
    {
     "data": {
      "image/png": "[encoded data removed]",
      "text/plain": [
       "<Figure size 864x288 with 3 Axes>"
      ]
     },
     "metadata": {
      "needs_background": "light"
     },
     "output_type": "display_data"
    }
   ],
   "source": [
    "# PLOTTING WHAT's INTERESTING\n",
    "colours = [\"C0\",\"C1\",\"forestgreen\",\"C3\",\"C4\",\"mediumaquamarine\",\"k\"]\n",
    "\n",
    "fig,axs = plt.subplots(1,3,sharex=True,figsize=(12,4))\n",
    "alfa=0.7\n",
    "lws=1.0\n",
    "\n",
    "# scatterpoints for expected\n",
    "for i in range(nevents):\n",
    "    j0,j1 = nidxs[i],nidxs[i+1]\n",
    "    axs[0].scatter(UTCImax[j0:j1,0],di_heatillness[j0:j1],50,color=colours[i],alpha=alfa,label=events_long[i])\n",
    "    axs[1].scatter(UTCImax[j0:j1,0],di_heatillnsev[j0:j1],50,color=colours[i],alpha=alfa,label=events_long[i])\n",
    "    axs[2].scatter(UTCImax[j0:j1,0],di_others[j0:j1],50,color=colours[i],alpha=alfa,label=events_long[i])\n",
    "\n",
    "# lines for uncertainty\n",
    "for i in range(nevents):\n",
    "    j0,j1 = nidxs[i],nidxs[i+1]\n",
    "    axs[0].plot(UTCImax[j0:j1,1:].T,np.array([di_heatillness[j0:j1]]*2),colours[i],lw=lws)\n",
    "    axs[1].plot(UTCImax[j0:j1,1:].T,np.array([di_heatillnsev[j0:j1]]*2),colours[i],lw=lws)\n",
    "    axs[2].plot(UTCImax[j0:j1,1:].T,np.array([di_others[j0:j1]]*2),colours[i],lw=lws)\n",
    "\n",
    "\n",
    "# curve fitting\n",
    "fb0 = axs[0].fill_between(xall,np.percentile(fits0[:,:,0],5,axis=1),np.percentile(fits0[:,:,0],95,axis=1),color=\"grey\",alpha=0.2)\n",
    "fb0r2 = axs[0].fill_between(xall,np.percentile(fits0[:,:,1],5,axis=1),np.percentile(fits0[:,:,1],95,axis=1),color=\"grey\",alpha=0.2)\n",
    "# fb1 = axs[1].fill_between(xall,np.percentile(fits1[:,:,0],5,axis=1),np.percentile(fits1[:,:,0],95,axis=1),color=\"grey\",alpha=0.2)\n",
    "fb1r2 = axs[1].fill_between(xall,np.percentile(fits1[:,:,1],5,axis=1),np.percentile(fits1[:,:,1],95,axis=1),color=\"grey\",alpha=0.2)\n",
    "fb2 = axs[2].fill_between(xall,np.percentile(fits2[:,:,0],5,axis=1),np.percentile(fits2[:,:,0],95,axis=1),color=\"grey\",alpha=0.2)\n",
    "fb2r2 = axs[2].fill_between(xall,np.percentile(fits2[:,:,1],5,axis=1),np.percentile(fits2[:,:,1],95,axis=1),color=\"grey\",alpha=0.2)\n",
    "\n",
    "h0, = axs[0].plot(xall,np.median(fits0[:,:,0],axis=1),\"k--\",lw=2,zorder=-5)\n",
    "h0r2, = axs[0].plot(xall,np.median(fits0[:,:,1],axis=1),\"k\",lw=2,zorder=-5)\n",
    "# h1, = axs[1].plot(xall,np.median(fits1[:,:,0],axis=1),\"k--\",lw=2,zorder=-5)\n",
    "h1r2, = axs[1].plot(xall,np.median(fits1[:,:,1],axis=1),\"k\",lw=2,zorder=-5)\n",
    "h2, = axs[2].plot(xall,np.median(fits2[:,:,0],axis=1),\"k--\",lw=2,zorder=-5)\n",
    "h2r2, = axs[2].plot(xall,np.median(fits2[:,:,1],axis=1),\"k\",lw=2,zorder=-5)\n",
    "\n",
    "# axs[1].plot(xall,fitd,\"C2--\")\n",
    "\n",
    "axs[0].legend([(fb0,h0),(fb0r2,h0r2)],(str(prisks[0])+\"% risk incidences\",\"Expected incidences\"),loc=2,fontsize=9)\n",
    "\n",
    "axs[0].set_title(\"Heat-related conditions\",loc=\"left\")\n",
    "axs[1].set_title(\"Heat illnesses\",loc=\"left\")\n",
    "axs[2].set_title(\"All other illnesses\",loc=\"left\")\n",
    "\n",
    "axs[0].set_title(\"a\",loc=\"right\",fontweight=\"bold\")\n",
    "axs[1].set_title(\"b\",loc=\"right\",fontweight=\"bold\")\n",
    "axs[2].set_title(\"c\",loc=\"right\",fontweight=\"bold\")\n",
    "\n",
    "axs[0].set_xlabel(\"Daily maximum UTCI [˚C]\")\n",
    "axs[1].set_xlabel(\"Daily maximum UTCI [˚C]\")\n",
    "axs[2].set_xlabel(\"Daily maximum UTCI [˚C]\")\n",
    "\n",
    "axs[0].set_ylabel(\"daily incidence rate\")\n",
    "\n",
    "axs[1].legend(loc=2,ncol=1,fontsize=9,scatterpoints=3)\n",
    "\n",
    "axs[0].set_xlim(14,39)\n",
    "axs[0].set_ylim(-0.5,14)\n",
    "axs[1].set_ylim(-0.07,2)\n",
    "axs[2].set_ylim(-0.1,3)\n",
    "plt.tight_layout()\n",
    "\n",
    "plt.show()"
   ]
  },
  {
   "cell_type": "code",
   "execution_count": 18,
   "metadata": {},
   "outputs": [
    {
     "data": {
      "text/plain": [
       "17"
      ]
     },
     "execution_count": 18,
     "metadata": {},
     "output_type": "execute_result"
    }
   ],
   "source": [
    "np.sum(di_others > 0)"
   ]
  },
  {
   "cell_type": "code",
   "execution_count": null,
   "metadata": {},
   "outputs": [],
   "source": []
  }
 ],
 "metadata": {
  "kernelspec": {
   "display_name": "Python 3",
   "language": "python",
   "name": "python3"
  },
  "language_info": {
   "codemirror_mode": {
    "name": "ipython",
    "version": 3
   },
   "file_extension": ".py",
   "mimetype": "text/x-python",
   "name": "python",
   "nbconvert_exporter": "python",
   "pygments_lexer": "ipython3",
   "version": "3.7.7"
  }
 },
 "nbformat": 4,
 "nbformat_minor": 4
}
