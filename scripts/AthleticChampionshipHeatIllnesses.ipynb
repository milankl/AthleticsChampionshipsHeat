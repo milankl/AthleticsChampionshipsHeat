{
 "cells": [
  {
   "cell_type": "markdown",
   "metadata": {},
   "source": [
    "# Heat illnesses during European and World Championships in Athletics\n",
    "\n",
    "Notebook that visualises the number of various heat-related illnesses against different daily heat indices based on the Universal Thermal Climate Index (UTCI).\n"
   ]
  },
  {
   "cell_type": "markdown",
   "metadata": {},
   "source": [
    "Ignore this:"
   ]
  },
  {
   "cell_type": "code",
   "execution_count": 1,
   "metadata": {},
   "outputs": [
    {
     "data": {
      "application/javascript": [
       "IPython.OutputArea.prototype._should_scroll = function(lines) {\n",
       "    return false;\n",
       "}\n"
      ],
      "text/plain": [
       "<IPython.core.display.Javascript object>"
      ]
     },
     "metadata": {},
     "output_type": "display_data"
    }
   ],
   "source": [
    "%%javascript\n",
    "IPython.OutputArea.prototype._should_scroll = function(lines) {\n",
    "    return false;\n",
    "}"
   ]
  },
  {
   "cell_type": "markdown",
   "metadata": {},
   "source": [
    "## 1. Load the data"
   ]
  },
  {
   "cell_type": "code",
   "execution_count": 2,
   "metadata": {},
   "outputs": [],
   "source": [
    "# IMPORT PACKAGES\n",
    "import numpy as np\n",
    "import pandas as pd\n",
    "import matplotlib.pyplot as plt\n",
    "from scipy import optimize\n",
    "\n",
    "# read xlsx file\n",
    "path = \"/Users/milan/git/AthleticsChampionshipsHeat/data/\"\n",
    "DF = pd.read_excel(path+\"IllnessesHeat_10Sep.xlsx\")\n",
    "\n",
    "# function to translate a column named by alphabet A,B,C,...AA,AB, etc into an index 1,2,3,...\n",
    "def ABC2index(S):\n",
    "    i=0\n",
    "    for j,s in enumerate(list(S)):\n",
    "        i += j*26+(ord(s)-65)\n",
    "    \n",
    "    return i"
   ]
  },
  {
   "cell_type": "code",
   "execution_count": 3,
   "metadata": {
    "scrolled": true
   },
   "outputs": [],
   "source": [
    "# LOAD HEAT ILLNESS DATA\n",
    "di_heatcond = DF.values[:,ABC2index(\"AI\")].astype(np.float)  # daily incidences of heat-related conditions\n",
    "di_heatilln = DF.values[:,ABC2index(\"AN\")].astype(np.float)  # di of heat illnesses\n",
    "di_heatcond_illn = di_heatcond + di_heatilln                 # di of heat-related illnesses"
   ]
  },
  {
   "cell_type": "code",
   "execution_count": 6,
   "metadata": {},
   "outputs": [],
   "source": [
    "# LOAD UTCI DATA\n",
    "ndays = len(di_heatcond)\n",
    "UTCImax = np.zeros((ndays,3))    # time x (expected, min, max)\n",
    "UTCImaxs = np.zeros((ndays,5,5))\n",
    "UTCImean = np.zeros((ndays,3))\n",
    "UTCI3day = np.zeros((ndays,3))\n",
    "UTCIdiff = np.zeros((ndays,3))\n",
    "\n",
    "events = [\"berlin2009\",\"daegu2011\",\"helsinki2012\", \"moscow2013\",\"zuerich2014\",\n",
    "          \"amsterdam2016\",\"berlin2018\"]\n",
    "events_long = [\"Berlin 2009\",\"Daegu 2011\",\"Helsinki 2012\",\"Moscow 2013\",\"Zürich 2014\",\n",
    "        \"Amsterdam 2016\", \"Berlin 2018\"]\n",
    "nevents = len(events)\n",
    "ndays_per_event = [0,]*nevents\n",
    "\n",
    "i = 0\n",
    "for ifile,file in enumerate(events):\n",
    "    # expected\n",
    "    ma = np.load(path+file+\"utci_daily.npz\")[\"UTCI_dailymax\"]\n",
    "    me = np.load(path+file+\"utci_daily.npz\")[\"UTCI_dailymean\"]\n",
    "    td = np.load(path+file+\"utci_daily.npz\")[\"UTCI_3daymean\"]\n",
    "    di = np.load(path+file+\"utci_daily.npz\")[\"UTCI_dailydiff\"]\n",
    "    \n",
    "    n = len(ma)\n",
    "    ndays_per_event[ifile] = n\n",
    "    \n",
    "    UTCImax[i:i+n,0] = ma\n",
    "    UTCImean[i:i+n,0] = me\n",
    "    UTCI3day[i:i+n,0] = td\n",
    "    UTCIdiff[i:i+n,0] = di\n",
    "    \n",
    "    # all\n",
    "    UTCImaxs[i:i+n,:,:] = np.load(path+file+\"utci_daily_maxs.npz\")[\"UTCI_dailymaxs\"]\n",
    "    \n",
    "    # uncertainty - minimum\n",
    "    ma = np.load(path+file+\"utci_daily.npz\")[\"UTCI_dailymax0\"]\n",
    "    me = np.load(path+file+\"utci_daily.npz\")[\"UTCI_dailymean0\"]\n",
    "    td = np.load(path+file+\"utci_daily.npz\")[\"UTCI_3daymean0\"]\n",
    "    di = np.load(path+file+\"utci_daily.npz\")[\"UTCI_dailydiff0\"]\n",
    "    \n",
    "    UTCImax[i:i+n,1] = ma\n",
    "    UTCImean[i:i+n,1] = me\n",
    "    UTCI3day[i:i+n,1] = td\n",
    "    UTCIdiff[i:i+n,1] = di\n",
    "    \n",
    "    # uncertainty - maximum\n",
    "    ma = np.load(path+file+\"utci_daily.npz\")[\"UTCI_dailymax1\"]\n",
    "    me = np.load(path+file+\"utci_daily.npz\")[\"UTCI_dailymean1\"]\n",
    "    td = np.load(path+file+\"utci_daily.npz\")[\"UTCI_3daymean1\"]\n",
    "    di = np.load(path+file+\"utci_daily.npz\")[\"UTCI_dailydiff1\"]\n",
    "    \n",
    "    UTCImax[i:i+n,2] = ma\n",
    "    UTCImean[i:i+n,2] = me\n",
    "    UTCI3day[i:i+n,2] = td\n",
    "    UTCIdiff[i:i+n,2] = di\n",
    "    \n",
    "    i += n\n",
    "\n",
    "nidxs = np.concatenate([[0],np.cumsum(ndays_per_event)])\n",
    "\n",
    "# sea points are 1e20, mask out\n",
    "UTCImaxs = np.ma.masked_array(UTCImaxs,mask=UTCImaxs == 1e20)"
   ]
  },
  {
   "cell_type": "markdown",
   "metadata": {},
   "source": [
    "# 2. Linear/quadratic fit to data\n",
    "\n",
    "1. Create UTCI bins, e.g. 4 or 5 ˚C\n",
    "2. Sample randomly from the UTCI distribution for every event day (the uncertainty from location)\n",
    "3. Put the data into the bins from 1.\n",
    "4. Calculate the e.g. 10% risk of daily incidences\n",
    "5. Statistically fit the 10% risk of daily incidences to bin-mids via linear/quadratic fit.\n",
    "6. Repeat 1.-5. N times, as well as for the best-estimate (the central grid point, which is closest to the stadium).\n",
    "7. Plot the best-estimate fit, as well as the 5-95% range of N fits."
   ]
  },
  {
   "cell_type": "code",
   "execution_count": 7,
   "metadata": {},
   "outputs": [],
   "source": [
    "# heat illness risk model, lin/quad with constraint that vertex has to be on x-axis.\n",
    "def risk_lin(x,a,T0):\n",
    "    return a*(x-T0)\n",
    "\n",
    "def risk_quad(x,a,T0):\n",
    "    return a*(x-T0)**2\n",
    "\n",
    "# residual functions for least squares estimation\n",
    "def residual_lin(p,x,y):\n",
    "    return y-risk_lin(x,*p)\n",
    "\n",
    "def residual_quad(p,x,y):\n",
    "    return y-risk_quad(x,*p)"
   ]
  },
  {
   "cell_type": "code",
   "execution_count": 24,
   "metadata": {},
   "outputs": [
    {
     "name": "stderr",
     "output_type": "stream",
     "text": [
      "/Users/milan/miniconda3/lib/python3.7/site-packages/scipy/optimize/minpack.py:475: RuntimeWarning: Number of calls to function has reached maxfev = 600.\n",
      "  warnings.warn(errors[info][0], RuntimeWarning)\n"
     ]
    }
   ],
   "source": [
    "# least squares estimation\n",
    "prisks = [10,50,\"mean\"]                # risk [%] of daily incidence considered\n",
    "xall = np.linspace(10,40,100)   # evaluate models on these points\n",
    "\n",
    "# uncertainty\n",
    "p0 = [0.,15.]\n",
    "mcn = 1000   # number of monte carlo draws\n",
    "fits0 = np.empty((len(xall),mcn,len(prisks)))     # heat-related conditions\n",
    "fits1 = np.empty((len(xall),mcn,len(prisks)))     # heat illnesses\n",
    "fits2 = np.empty((len(xall),mcn,len(prisks)))     # heat-related illnesses\n",
    "\n",
    "slopes = np.empty((mcn,len(prisks),3 ))               \n",
    "\n",
    "for ip,prisk in enumerate(prisks):       # loop over different risk levels\n",
    "    for n in range(mcn):                 # monte carlo mcn times\n",
    "        UTCIrand = np.empty(ndays)       # pick random UTCI from grid points for each event day\n",
    "        for ii in range(ndays):\n",
    "            xy = np.random.randint(0,25)\n",
    "            while UTCImaxs[ii,:,:].flatten().mask[xy]: # check that we don't pick a masked sea-point\n",
    "                xy = np.random.randint(0,25)           # if masked, pull another random grid point\n",
    "\n",
    "            UTCIrand[ii] = UTCImaxs[ii,:,:].flatten().data[xy]\n",
    "\n",
    "        # pick bins based on sorting the temperatures\n",
    "        npoints = np.random.randint(5,11)    # reasonable binsizes\n",
    "        bins = np.sort(UTCIrand)[::npoints]\n",
    "        bins[-1] = np.max(UTCIrand)          # extend last bin to be inclusive with max\n",
    "        nbins = len(bins)-1                  # number of bins\n",
    "        binmids = np.empty(nbins)    # bin centres\n",
    "\n",
    "        diheatc = np.empty(nbins)     # daily incidence per bin at prisk risk level\n",
    "        diheati = np.empty(nbins)     # for illnesses too\n",
    "        diheatci = np.empty(nbins)       # for all illnesses\n",
    "\n",
    "        for i in range(nbins):\n",
    "            which_utcis = np.logical_and(UTCIrand > bins[i],UTCIrand <= bins[i+1])\n",
    "            ninbins = np.sum(which_utcis)\n",
    "            \n",
    "            # incidence rates have a 2std of +-1 error\n",
    "            diheatc_in_bin = di_heatcond[which_utcis] + 0.5*np.random.randn(ninbins)\n",
    "            diheati_in_bin = di_heatilln[which_utcis] + 0.5*np.random.randn(ninbins)\n",
    "            diheatci_in_bin = di_heatcond_illn[which_utcis] + 0.5*np.random.randn(ninbins)\n",
    "            \n",
    "            # clip distributions at 0\n",
    "            diheatc_in_bin = np.maximum(diheatc_in_bin,0)\n",
    "            diheati_in_bin = np.maximum(diheati_in_bin,0)\n",
    "            diheatci_in_bin = np.maximum(diheatci_in_bin,0)\n",
    "            \n",
    "            binmids[i] = np.mean(UTCIrand[which_utcis])\n",
    "            \n",
    "            if np.sum(which_utcis) == 0:\n",
    "                print(prisk,n,i,diheat_in_bin)\n",
    "            \n",
    "            if prisk == \"mean\":\n",
    "                diheatc[i] = np.mean(diheatc_in_bin)\n",
    "                diheati[i] = np.mean(diheati_in_bin)\n",
    "                diheatci[i] = np.mean(diheatci_in_bin)\n",
    "            else:\n",
    "                diheatc[i] = np.percentile(diheatc_in_bin,100-prisk)\n",
    "                diheati[i] = np.percentile(diheati_in_bin,100-prisk)\n",
    "                diheatci[i] = np.percentile(diheatci_in_bin,100-prisk)\n",
    "\n",
    "        # use either linear or quadratic model here\n",
    "        p0est = optimize.leastsq(residual_lin, p0, args=(binmids, diheatci))[0]      # both heat-related conditions and illnesses\n",
    "        p1est = optimize.leastsq(residual_lin, p0, args=(binmids, diheatc))[0]       # heat-related conditions\n",
    "        p2est = optimize.leastsq(residual_lin, p0, args=(binmids, diheati))[0]       # heat illnesses\n",
    "        \n",
    "        slopes[n,ip,:] = [p0est[0],p1est[0],p2est[0]]\n",
    "        \n",
    "        fits0[:,n,ip] = risk_lin(xall,*p0est)\n",
    "        fits1[:,n,ip] = risk_lin(xall,*p1est)\n",
    "        fits2[:,n,ip] = risk_lin(xall,*p2est)\n"
   ]
  },
  {
   "cell_type": "code",
   "execution_count": 12,
   "metadata": {},
   "outputs": [],
   "source": [
    "pestd = optimize.leastsq(residual_lin, p0, args=(UTCImax[:,0],di_heatcond))[0]\n",
    "fitd = risk_lin(xall,*pestd)"
   ]
  },
  {
   "cell_type": "code",
   "execution_count": 22,
   "metadata": {
    "scrolled": true
   },
   "outputs": [
    {
     "data": {
      "image/png": "[encoded data removed]",
      "text/plain": [
       "<Figure size 864x288 with 3 Axes>"
      ]
     },
     "metadata": {
      "needs_background": "light"
     },
     "output_type": "display_data"
    }
   ],
   "source": [
    "# PLOTTING WHAT's INTERESTING\n",
    "colours = [\"C0\",\"C1\",\"forestgreen\",\"C3\",\"C4\",\"mediumaquamarine\",\"k\"]\n",
    "\n",
    "fig,axs = plt.subplots(1,3,sharex=True,figsize=(12,4))\n",
    "alfa=0.7\n",
    "alfa2=0.3\n",
    "lws=1.0\n",
    "pci = [2.5,97.5]\n",
    "\n",
    "# scatterpoints for expected\n",
    "for i in range(nevents):\n",
    "    j0,j1 = nidxs[i],nidxs[i+1]\n",
    "    axs[0].scatter(UTCImax[j0:j1,0],di_heatcond_illn[j0:j1],50,color=colours[i],alpha=alfa,label=events_long[i])\n",
    "    axs[1].scatter(UTCImax[j0:j1,0],di_heatcond[j0:j1],50,color=colours[i],alpha=alfa,label=events_long[i])\n",
    "    axs[2].scatter(UTCImax[j0:j1,0],di_heatilln[j0:j1],50,color=colours[i],alpha=alfa,label=events_long[i])\n",
    "    \n",
    "# lines for uncertainty\n",
    "for i in range(nevents):\n",
    "    j0,j1 = nidxs[i],nidxs[i+1]\n",
    "    axs[0].plot(UTCImax[j0:j1,1:].T,np.array([di_heatcond_illn[j0:j1]]*2),colours[i],lw=lws)\n",
    "    axs[1].plot(UTCImax[j0:j1,1:].T,np.array([di_heatcond[j0:j1]]*2),colours[i],lw=lws)\n",
    "    axs[2].plot(UTCImax[j0:j1,1:].T,np.array([di_heatilln[j0:j1]]*2),colours[i],lw=lws)\n",
    "    \n",
    "# curve fitting\n",
    "fb01 = axs[0].fill_between(xall,np.percentile(fits0[:,:,0],pci[0],axis=1),np.percentile(fits0[:,:,0],pci[1],axis=1),color=\"grey\",alpha=alfa2)\n",
    "fb02 = axs[0].fill_between(xall,np.percentile(fits0[:,:,1],pci[0],axis=1),np.percentile(fits0[:,:,1],pci[1],axis=1),color=\"grey\",alpha=alfa2)\n",
    "fb03 = axs[0].fill_between(xall,np.percentile(fits0[:,:,2],pci[0],axis=1),np.percentile(fits0[:,:,2],pci[1],axis=1),color=\"grey\",alpha=alfa2)\n",
    "\n",
    "axs[1].fill_between(xall,np.percentile(fits1[:,:,0],pci[0],axis=1),np.percentile(fits1[:,:,0],pci[1],axis=1),color=\"grey\",alpha=alfa2)\n",
    "axs[1].fill_between(xall,np.percentile(fits1[:,:,1],pci[0],axis=1),np.percentile(fits1[:,:,1],pci[1],axis=1),color=\"grey\",alpha=alfa2)\n",
    "axs[1].fill_between(xall,np.percentile(fits1[:,:,2],pci[0],axis=1),np.percentile(fits1[:,:,2],pci[1],axis=1),color=\"grey\",alpha=alfa2)\n",
    "\n",
    "axs[2].fill_between(xall,np.percentile(fits2[:,:,2],pci[0],axis=1),np.percentile(fits2[:,:,2],pci[1],axis=1),color=\"grey\",alpha=alfa2)\n",
    "\n",
    "h01, = axs[0].plot(xall,np.median(fits0[:,:,0],axis=1),\"k--\",lw=2,zorder=-5)\n",
    "h02, = axs[0].plot(xall,np.median(fits0[:,:,1],axis=1),\"k-.\",lw=2,zorder=-5)\n",
    "h03, = axs[0].plot(xall,np.median(fits0[:,:,2],axis=1),\"k\",lw=2,zorder=-5)\n",
    "\n",
    "axs[1].plot(xall,np.median(fits1[:,:,0],axis=1),\"k--\",lw=2,zorder=-5)\n",
    "axs[1].plot(xall,np.median(fits1[:,:,1],axis=1),\"k-.\",lw=2,zorder=-5)\n",
    "axs[1].plot(xall,np.median(fits1[:,:,2],axis=1),\"k\",lw=2,zorder=-5)\n",
    "\n",
    "axs[2].plot(xall,np.median(fits2[:,:,2],axis=1),\"k\",lw=2,zorder=-5)\n",
    "\n",
    "axs[0].legend([(fb01,h01),(fb02,h02),(fb03,h03)],(str(prisks[0])+\"%-risk incidences\",\"Median incidences\",\"Mean incidences\"),loc=2,fontsize=9)\n",
    "\n",
    "axs[0].set_title(\"All heat-related illnesses\",loc=\"left\")\n",
    "axs[1].set_title(\"Heat-related conditions\",loc=\"left\")\n",
    "axs[2].set_title(\"Heat illnesses\",loc=\"left\")\n",
    "\n",
    "axs[0].set_title(\"a\",loc=\"right\",fontweight=\"bold\")\n",
    "axs[1].set_title(\"b\",loc=\"right\",fontweight=\"bold\")\n",
    "axs[2].set_title(\"c\",loc=\"right\",fontweight=\"bold\")\n",
    "\n",
    "axs[0].set_xlabel(\"Daily maximum UTCI [˚C]\")\n",
    "axs[1].set_xlabel(\"Daily maximum UTCI [˚C]\")\n",
    "axs[2].set_xlabel(\"Daily maximum UTCI [˚C]\")\n",
    "\n",
    "axs[0].set_ylabel(\"daily incidence rate\")\n",
    "\n",
    "axs[1].legend(loc=2,ncol=1,fontsize=9,scatterpoints=3)\n",
    "\n",
    "axs[0].set_xlim(14,39)\n",
    "axs[0].set_ylim(-0.5,14)\n",
    "axs[1].set_ylim(-0.5,14)\n",
    "axs[2].set_ylim(-0.1,2)\n",
    "plt.tight_layout()\n",
    "\n",
    "plt.show()"
   ]
  },
  {
   "cell_type": "code",
   "execution_count": 39,
   "metadata": {},
   "outputs": [
    {
     "name": "stdout",
     "output_type": "stream",
     "text": [
      "All heat-related illnesses\n",
      "Slope for mean incidences: 0.14±0.04 incidence rate/˚C\n"
     ]
    }
   ],
   "source": [
    "# mean incidences mean slope with 95%CI\n",
    "mslope = [np.mean(slopes[:,2,0]),np.percentile(slopes[:,2,0],2.5),np.percentile(slopes[:,2,0],97.5)]\n",
    "print(\"All heat-related illnesses\")\n",
    "print(\"Slope for mean incidences: {:.2f}±{:.2f} incidence rate/˚C\".format(mslope[0],((mslope[2]-mslope[0])+(mslope[0]-mslope[1]))/2))"
   ]
  },
  {
   "cell_type": "code",
   "execution_count": 44,
   "metadata": {},
   "outputs": [
    {
     "name": "stdout",
     "output_type": "stream",
     "text": [
      "All heat-related illnesses\n",
      "Slope for median incidences: 0.07±0.06 incidence rate/˚C\n"
     ]
    }
   ],
   "source": [
    "# mean incidences mean slope with 95%CI\n",
    "mslope = [np.mean(slopes[:,1,0]),np.percentile(slopes[:,1,0],2.5),np.percentile(slopes[:,1,0],97.5)]\n",
    "print(\"All heat-related illnesses\")\n",
    "print(\"Slope for median incidences: {:.2f}±{:.2f} incidence rate/˚C\".format(mslope[0],((mslope[2]-mslope[0])+(mslope[0]-mslope[1]))/2))"
   ]
  },
  {
   "cell_type": "code",
   "execution_count": 42,
   "metadata": {},
   "outputs": [
    {
     "name": "stdout",
     "output_type": "stream",
     "text": [
      "All heat-related illnesses\n",
      "Slope for 10%-risk incidences: 0.33±0.10 incidence rate/˚C\n"
     ]
    }
   ],
   "source": [
    "# 10%risk incidences mean slope with 95%CI\n",
    "mslope = [np.mean(slopes[:,0,0]),np.percentile(slopes[:,0,0],2.5),np.percentile(slopes[:,0,0],97.5)]\n",
    "print(\"All heat-related illnesses\")\n",
    "print(\"Slope for 10%-risk incidences: {:.2f}±{:.2f} incidence rate/˚C\".format(mslope[0],((mslope[2]-mslope[0])+(mslope[0]-mslope[1]))/2))"
   ]
  },
  {
   "cell_type": "code",
   "execution_count": 40,
   "metadata": {
    "scrolled": false
   },
   "outputs": [
    {
     "name": "stdout",
     "output_type": "stream",
     "text": [
      "Heat-related conditions\n",
      "Slope for mean incidences: 0.12±0.04 incidence rate/˚C\n"
     ]
    }
   ],
   "source": [
    "# mean incidences mean slope with 95%CI\n",
    "mslope = [np.mean(slopes[:,2,1]),np.percentile(slopes[:,2,1],2.5),np.percentile(slopes[:,2,1],97.5)]\n",
    "print(\"Heat-related conditions\")\n",
    "print(\"Slope for mean incidences: {:.2f}±{:.2f} incidence rate/˚C\".format(mslope[0],((mslope[2]-mslope[0])+(mslope[0]-mslope[1]))/2))"
   ]
  },
  {
   "cell_type": "code",
   "execution_count": 45,
   "metadata": {},
   "outputs": [
    {
     "name": "stdout",
     "output_type": "stream",
     "text": [
      "Heat-related conditions\n",
      "Slope for median incidences: 0.06±0.05 incidence rate/˚C\n"
     ]
    }
   ],
   "source": [
    "# mean incidences mean slope with 95%CI\n",
    "mslope = [np.mean(slopes[:,1,1]),np.percentile(slopes[:,1,1],2.5),np.percentile(slopes[:,1,1],97.5)]\n",
    "print(\"Heat-related conditions\")\n",
    "print(\"Slope for median incidences: {:.2f}±{:.2f} incidence rate/˚C\".format(mslope[0],((mslope[2]-mslope[0])+(mslope[0]-mslope[1]))/2))"
   ]
  },
  {
   "cell_type": "code",
   "execution_count": 43,
   "metadata": {
    "scrolled": true
   },
   "outputs": [
    {
     "name": "stdout",
     "output_type": "stream",
     "text": [
      "Heat-related conditions\n",
      "Slope for 10%-risk incidences: 0.26±0.10 incidence rate/˚C\n"
     ]
    }
   ],
   "source": [
    "# 10%risk incidences mean slope with 95%CI\n",
    "mslope = [np.mean(slopes[:,0,1]),np.percentile(slopes[:,0,1],2.5),np.percentile(slopes[:,0,1],97.5)]\n",
    "print(\"Heat-related conditions\")\n",
    "print(\"Slope for 10%-risk incidences: {:.2f}±{:.2f} incidence rate/˚C\".format(mslope[0],((mslope[2]-mslope[0])+(mslope[0]-mslope[1]))/2))"
   ]
  },
  {
   "cell_type": "code",
   "execution_count": 41,
   "metadata": {},
   "outputs": [
    {
     "name": "stdout",
     "output_type": "stream",
     "text": [
      "Heat illnesses\n",
      "Slope for mean incidences: 0.02±0.02 incidence rate/˚C\n"
     ]
    }
   ],
   "source": [
    "# mean incidences mean slope with 95%CI\n",
    "mslope = [np.mean(slopes[:,2,2]),np.percentile(slopes[:,2,2],2.5),np.percentile(slopes[:,2,2],97.5)]\n",
    "print(\"Heat illnesses\")\n",
    "print(\"Slope for mean incidences: {:.2f}±{:.2f} incidence rate/˚C\".format(mslope[0],((mslope[2]-mslope[0])+(mslope[0]-mslope[1]))/2))"
   ]
  },
  {
   "cell_type": "code",
   "execution_count": null,
   "metadata": {},
   "outputs": [],
   "source": []
  }
 ],
 "metadata": {
  "kernelspec": {
   "display_name": "Python 3",
   "language": "python",
   "name": "python3"
  },
  "language_info": {
   "codemirror_mode": {
    "name": "ipython",
    "version": 3
   },
   "file_extension": ".py",
   "mimetype": "text/x-python",
   "name": "python",
   "nbconvert_exporter": "python",
   "pygments_lexer": "ipython3",
   "version": "3.7.7"
  }
 },
 "nbformat": 4,
 "nbformat_minor": 4
}
