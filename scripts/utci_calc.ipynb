{
 "cells": [
  {
   "cell_type": "code",
   "execution_count": 22,
   "metadata": {},
   "outputs": [],
   "source": [
    "# IMPORTS\n",
    "import netCDF4 as nc\n",
    "import numpy as np\n",
    "import datetime\n",
    "from pythermalcomfort.models import utci\n",
    "import matplotlib.pyplot as plt\n",
    "\n",
    "path = \"/Users/milan/git/AthleticsChampionshipsHeat/data/\""
   ]
  },
  {
   "cell_type": "code",
   "execution_count": 3,
   "metadata": {},
   "outputs": [],
   "source": [
    "# OPTIONS\n",
    "filename = \"berlin2018\"\n",
    "utc = 2\n",
    "tstart = datetime.datetime(2018,8,6,6)     # start day of the event\n",
    "tend = datetime.datetime(2020,8,12,23)     # end day of the event"
   ]
  },
  {
   "cell_type": "code",
   "execution_count": 4,
   "metadata": {},
   "outputs": [],
   "source": [
    "# LOAD DATA\n",
    "ncfile = nc.Dataset(path+filename+\".nc\")\n",
    "time_hours = ncfile.variables[\"time\"][:]    # time in hours since 1900-1-1\n",
    "lats = ncfile.variables[\"latitude\"][:]      # latitudes\n",
    "lons = ncfile.variables[\"longitude\"][:]     # longitudes\n",
    "\n",
    "T = ncfile.variables[\"t2m\"][:,:,:]-273.15       # 2m temperature [°C]\n",
    "Td = ncfile.variables[\"d2m\"][:,:,:]-273.15      # 2m dew point temperature [°C]\n",
    "u = ncfile.variables[\"u10\"][:,:,:]              # 10m wind u-component [m/s]\n",
    "v = ncfile.variables[\"v10\"][:,:,:]              # 10m wind v-component [m/s]\n",
    "precip_acc = ncfile.variables[\"tp\"][:,:,:]      # Total precipation [mm]\n",
    "\n",
    "# daily accumulated radiation fluxes\n",
    "ssr_acc = ncfile.variables[\"ssr\"][:,:,:]        # net shortwave radiation [J/m^2]\n",
    "str_acc = ncfile.variables[\"str\"][:,:,:]        # net longwave radiation [J/m^2]\n",
    "ssrd_acc = ncfile.variables[\"ssrd\"][:,:,:]      # downward shortwave radiation [J/m^2]\n",
    "strd_acc = ncfile.variables[\"strd\"][:,:,:]      # downward longwave radiation [J/m^2]\n",
    "fdir = ncfile.variables[\"fdir\"][:,:,:]          # downward direct shortwave radiation [J/m^2]\n",
    "\n",
    "# read the cloudiness from file\n",
    "hcc = ncfile.variables[\"hcc\"][:,:,:]            # high cloud cover\n",
    "# mcc = ncfile.variables[\"mcc\"][:,:,:]            # medium cloud cover\n",
    "lcc = ncfile.variables[\"lcc\"][:,:,:]            # low cloud cover\n",
    "ncfile.close()"
   ]
  },
  {
   "cell_type": "code",
   "execution_count": 8,
   "metadata": {},
   "outputs": [],
   "source": [
    "## convert time\n",
    "t0 = datetime.datetime(1900,1,1)              # netCDF is in hours since\n",
    "utc_td = datetime.timedelta(hours=utc)        # convert utc from int to timedelta\n",
    "time_utc = [t0+datetime.timedelta(hours=np.float64(i)) for i in time_hours]   # time in utc\n",
    "time = [t+utc_td for t in time_utc]                                           # local time\n",
    "\n",
    "julianday0 = datetime.datetime(tstart.year,1,1)                            # beginning of year\n",
    "juliandays = np.array([(t-julianday0).days for t in time_utc])      # time in days since beginning of year\n",
    "hours = np.array([(t-julianday0).seconds/3600 for t in time_utc])   # time in hours since beginning of year"
   ]
  },
  {
   "cell_type": "code",
   "execution_count": 9,
   "metadata": {},
   "outputs": [],
   "source": [
    "## relative humidity from dew point\n",
    "# Magnus formula\n",
    "A1 = 17.625\n",
    "B1 = 243.04\n",
    "rh = 100*(np.exp(A1*Td / (B1+Td)) / np.exp(A1*T / (B1+T)))\n",
    "\n",
    "## wind speed\n",
    "wspd = np.sqrt(u**2 + v**2).clip(0.5,17)\n",
    "\n",
    "## convert radiation from accumulated J/m^2 to W/m^2\n",
    "one_hour = 3600 # seconds\n",
    "\n",
    "def gradient(acc):\n",
    "    out = np.zeros_like(acc[:-1,:,:])\n",
    "\n",
    "    for i,hrs in enumerate(hours[:-1]):\n",
    "        if hrs == 0:    # no diff across midnight\n",
    "            out[i,:,:] = acc[i+1,:,:]/one_hour\n",
    "        else:           # normal np.diff case\n",
    "            out[i,:,:] = (acc[i+1,:,:] - acc[i,:,:])/one_hour\n",
    "\n",
    "    return out\n",
    "\n",
    "ssr = gradient(ssr_acc)\n",
    "strr = gradient(str_acc)     # call strr as str is string func\n",
    "ssrd = gradient(ssrd_acc)\n",
    "strd = gradient(strd_acc)\n",
    "precip = gradient(precip_acc).mean(axis=(1,2))*one_hour\n",
    "precip = precip/precip.max()\n",
    "\n",
    "## radiation decomposition\n",
    "# ssrd is diffusive+direct radiation, subtract the direct fdir to obtain diffusive only\n",
    "ssrd_diffusive = ssrd - fdir[1:,:,:]/3600\n",
    "\n",
    "# ssrd is downward, ssr is net (down+up), subtract for upward only\n",
    "ssru = ssrd - ssr\n",
    "\n",
    "# strd is downward, str is net (down+up), subtract for updward only\n",
    "stru = strd - strr\n",
    "\n",
    "## solar coordinates (see Di Napoli, 2020 for more information)\n",
    "def cosd(x):\n",
    "    return np.cos(np.pi*x/180)\n",
    "    \n",
    "def sind(x):\n",
    "    return np.sin(np.pi*x/180)\n",
    "\n",
    "def tand(x):\n",
    "    return np.tan(np.pi*x/180)\n",
    "    \n",
    "def acosd(x):\n",
    "    return 180/np.pi*np.arccos(x)\n",
    "\n",
    "def g(JD,hr):\n",
    "    # angular fraction of the year in degrees\n",
    "    # JD: Julian day number 0 for January 1st, 0 UTC\n",
    "    # hr: hour of day (UTC)\n",
    "    return 360/365.25*(JD+hr/24)\n",
    "\n",
    "def h(hr,lambdaa,TC):\n",
    "    # solar hour angle (local), NOAA 1997\n",
    "    # hr: hour of day (UTC)\n",
    "    # lambdaa: longitude (degrees)\n",
    "    # TC: time correction\n",
    "    return (hr-12)*15 + lambdaa + TC\n",
    "\n",
    "def TC(g):\n",
    "    # time correction, NOAA 1997\n",
    "    return 0.004297 + 0.107029*cosd(g) + \\\n",
    "        -1.837877*sind(g) - 0.837378*cosd(2*g) + \\\n",
    "        -2.340475*sind(2*g)\n",
    "\n",
    "def delta(g):\n",
    "    # solar declination angle, Spencer 1971\n",
    "    return 180/np.pi*(0.006918-0.399912*cosd(g) +\n",
    "        0.070257*sind(g) - 0.006758*cosd(2*g) +\n",
    "        0.000907*sind(2*g) - 0.002697*cosd(3*g) +\n",
    "        0.001480*sind(3*g))\n",
    "        \n",
    "        \n",
    "time_g = g(juliandays,hours)\n",
    "declination = delta(time_g)\n",
    "time_correction = TC(time_g)\n",
    "hour_angle = np.array([h(hours,lon,time_correction) for lon in lons])\n",
    "\n",
    "# hour_angle_sunrise\n",
    "cos_h0 = np.array([-tand(declination)*tand(lat) for lat in lats])\n",
    "\n",
    "# clip hour angles to sunrise-sunset\n",
    "hminmax = np.zeros_like(fdir)\n",
    "nosun = np.zeros_like(fdir)\n",
    "\n",
    "for ilat,_ in enumerate(lats):\n",
    "    for ilon,_ in enumerate(lons):\n",
    "        for i,cos_h0i in enumerate(cos_h0[ilat,:]): \n",
    "            if hour_angle[ilon,i] < -acosd(cos_h0i):    # before sunrise\n",
    "                hminmax[i,ilat,ilon] = -acosd(cos_h0i)\n",
    "                nosun[i,ilat,ilon] = 1\n",
    "            elif hour_angle[ilon,i] > acosd(cos_h0i):   # after sunset\n",
    "                hminmax[i,ilat,ilon] = acosd(cos_h0i)\n",
    "                nosun[i,ilat,ilon] = 1\n",
    "            else:                                       # in between\n",
    "                hminmax[i,ilat,ilon] = hour_angle[ilon,i]\n",
    "\n",
    "# solar zenith angle\n",
    "cos_phi0 = np.zeros_like(fdir[1:,:,:])     # integration over timestep\n",
    "cos_phi = np.zeros_like(fdir)               \n",
    "\n",
    "for ilat,lat in enumerate(lats):\n",
    "    for ilon,_ in enumerate(lons):\n",
    "        for i,decl in enumerate(declination[:-1]):\n",
    "            # no sun in the time interval\n",
    "            if nosun[i,ilat,ilon] == 1 and nosun[i+1,ilat,ilon] == 1:\n",
    "                cos_phi0[i,ilat,ilon] = 0\n",
    "            else:\n",
    "                cos_phi0[i,ilat,ilon] = sind(decl)*sind(lat) + \\\n",
    "            1/(2*np.pi/360*(hminmax[i+1,ilat,ilon]-hminmax[i,ilat,ilon]))* \\\n",
    "            cosd(decl)*cosd(lat)*(sind(hminmax[i+1,ilat,ilon])-\n",
    "                                    sind(hminmax[i,ilat,ilon]))\n",
    "            \n",
    "            cos_phi[i,ilat,ilon] = sind(decl)*sind(lat) + \\\n",
    "                                cosd(decl)*cosd(lat)*cosd(hour_angle[ilon,i])\n",
    "\n",
    "## elevation angle and projection factor\n",
    "elevation_angle = 90-acosd(cos_phi[1:,:,:])\n",
    "fp = 0.308*cosd(elevation_angle*(0.998-elevation_angle**2/50000))"
   ]
  },
  {
   "cell_type": "code",
   "execution_count": 31,
   "metadata": {},
   "outputs": [
    {
     "data": {
      "text/plain": [
       "[<matplotlib.lines.Line2D at 0x7f92fe5394d0>]"
      ]
     },
     "execution_count": 31,
     "metadata": {},
     "output_type": "execute_result"
    },
    {
     "data": {
      "image/png": "[encoded data removed]",
      "text/plain": [
       "<Figure size 432x288 with 1 Axes>"
      ]
     },
     "metadata": {
      "needs_background": "light"
     },
     "output_type": "display_data"
    }
   ],
   "source": [
    "plt.plot(ssr[:,2,2])"
   ]
  },
  {
   "cell_type": "code",
   "execution_count": 130,
   "metadata": {},
   "outputs": [],
   "source": [
    "## COMPUTE MRT\n",
    "Istar = np.zeros_like(cos_phi0)\n",
    "\n",
    "for i in range(len(time_utc)-1):\n",
    "    for j in range(len(lons)):\n",
    "        for k in range(len(lats)):\n",
    "            if cos_phi0[i,j,k] > 0:\n",
    "                # convert to W/m^2 from J/m^2\n",
    "                if cos_phi[i,j,k] <= 0:\n",
    "                    Istar[i,j,k] = 0.0\n",
    "                else:\n",
    "                    Istar[i,j,k] = fdir[i+1,j,k]/cos_phi0[i,j,k]/one_hour\n",
    "\n",
    "\n",
    "alpha_ir = 0.7      # absorption coefficient of a human body\n",
    "eps_p = 0.97        # emissivity coefficient of a human body\n",
    "sigma = 5.67e-8     # stefan-boltzmann constant\n",
    "fa = 0.5            # angle factors\n",
    "\n",
    "MRT = ((fa*strd + fa*stru + alpha_ir/eps_p*(fa*(ssrd_diffusive+ssru)+fp*Istar))/sigma)**0.25-273.15"
   ]
  },
  {
   "cell_type": "code",
   "execution_count": 133,
   "metadata": {},
   "outputs": [
    {
     "data": {
      "text/plain": [
       "array([25, 25, 25, 25, 25, 25, 25, 25, 25, 25, 18, 12, 16,  9, 12, 20, 18,\n",
       "       25, 25, 13,  0,  0, 17,  1,  0, 25, 25, 25, 25, 25, 25, 25, 25, 25,\n",
       "       25, 18, 14,  5,  0,  7, 12, 13, 14, 24,  0,  0,  0,  0,  0, 10, 25,\n",
       "       25, 13, 25, 23, 25, 25, 25, 25, 24, 12, 12,  5,  5,  0,  0, 17,  2,\n",
       "        0,  0,  0,  2,  0,  0, 24, 24, 14, 25, 23,  9, 25, 25, 25,  6, 16,\n",
       "       23, 10, 20, 19, 16,  4, 25,  0,  0,  4, 21,  0, 25, 18, 10, 24, 10,\n",
       "       10, 22, 19, 25, 25,  8, 13,  7,  7,  0,  8, 12,  2, 22,  0,  0,  3,\n",
       "        0,  0,  7,  0, 19, 23, 25,  5, 20, 25, 25, 25,  0, 11, 18, 24, 25,\n",
       "        4,  4,  1,  8,  0,  0,  0,  0,  0, 21,  4,  4, 25, 25, 24, 16, 25,\n",
       "       25, 25,  8,  7,  9, 25, 25, 22, 25,  3,  7,  0,  0,  0,  0,  0, 25,\n",
       "       22, 18, 12,  9, 17, 25, 25, 25, 25,  6, 12, 17, 25,  2,  6,  0, 18,\n",
       "       10,  0,  0,  0,  0,  0, 14, 12, 10,  6,  7, 25, 25, 25, 25, 25, 14,\n",
       "        6,  6, 10, 21, 24, 22, 10,  3,  0,  0,  0,  0,  0, 25, 20, 25, 25,\n",
       "       21, 13, 25,  7, 25, 25, 11,  6, 14, 17, 15,  8,  7,  3, 16,  0,  0,\n",
       "        0,  9,  0, 24, 12, 22, 21, 25, 17, 21, 25, 25, 25, 25, 25, 17, 15,\n",
       "        9, 10, 13, 13, 16,  0,  0,  0,  2,  0, 13, 25, 25, 25, 25, 25, 25,\n",
       "       25, 25, 25, 19, 19, 11, 24, 21, 22, 10,  5,  4,  0,  0,  0, 13,  0,\n",
       "        6, 24, 10, 25, 25, 14, 25, 25, 25, 25, 18, 17,  9,  8, 16,  6, 22,\n",
       "       10, 14,  0,  0,  0,  8,  0,  1, 19, 16, 13,  3, 22,  5, 22, 25, 25,\n",
       "       11, 25, 20, 13, 10, 10, 25, 22, 23,  0,  0,  0,  4,  0, 16, 25,  0,\n",
       "       24, 25,  8, 16, 25, 25, 25, 20, 21, 20, 20, 23, 25,  7, 25, 22,  0,\n",
       "        0,  0, 10,  0,  9, 16, 25, 24, 25, 25, 25, 25, 25, 25, 22, 13, 25,\n",
       "        4,  1,  8, 15, 25, 18,  0,  0,  0,  1,  0,  0,  5,  8, 25,  0, 22,\n",
       "       23, 25, 25, 25,  6, 21, 11,  4,  8,  5, 12, 25,  3,  0,  3, 16,  4,\n",
       "        0,  0,  1, 12, 23, 19, 22, 25, 20, 25, 25, 18, 11, 10, 22, 21, 25,\n",
       "        4, 15,  1,  0,  0,  5,  0,  0,  6, 15, 25, 25, 25, 25, 25, 25, 25,\n",
       "       25, 25, 23, 25, 19, 15, 21,  6, 10, 13,  0,  0,  3,  0,  0, 25, 25,\n",
       "       25, 24, 25, 17, 25, 25, 25, 25,  4,  5, 17, 25,  5,  8, 24, 21, 21,\n",
       "        0,  0,  0,  0,  0,  1, 25, 15, 22, 23, 12, 25, 25, 25, 25, 25, 24,\n",
       "        1,  3, 17,  4, 25,  2, 12,  0,  0,  0,  4,  0, 15, 25, 25, 21, 16,\n",
       "       25, 25, 25, 25, 25, 18, 25, 17, 18,  7,  2, 11, 17,  5,  0,  0,  2,\n",
       "        0,  0,  6,  4, 21, 17, 25, 15, 21, 21, 25, 25, 25, 15, 25, 14, 21,\n",
       "       17, 14, 15,  0,  0,  0,  4,  0,  0, 25, 21,  2, 25,  5, 25, 24, 25,\n",
       "       25, 25, 20, 25,  9, 12,  6, 10,  0, 16,  0,  0,  0,  0,  0,  0,  8,\n",
       "       22, 24, 16, 25, 21, 19, 25, 25, 25, 12, 16, 25,  6, 15,  8, 22, 25,\n",
       "        7,  0,  0,  0,  0,  0, 20, 25, 25, 25, 25, 25, 17, 25, 25, 25, 22,\n",
       "        8,  0, 19, 12, 20, 19,  0, 12,  0,  0,  1,  0,  0, 25, 23, 25, 15,\n",
       "       14, 25, 25, 25, 25, 25, 15, 15, 23, 23,  8, 10, 13, 24,  0,  0,  0,\n",
       "        0,  5,  0,  7, 14,  2, 24, 25, 25, 25, 25, 25, 25, 13, 20, 25, 24,\n",
       "       10, 15, 16, 17,  7,  0,  0,  0,  0,  0, 15, 25, 20, 23, 18, 25, 20,\n",
       "       25, 25, 25, 16, 21, 25, 24,  0, 14, 11, 16,  6,  0,  0,  0,  0,  0,\n",
       "        0,  6, 22, 22, 25, 23, 25, 25, 25, 25, 19, 25, 11, 13, 20, 19, 20,\n",
       "        0, 18,  0,  0,  4,  6,  0, 20, 13,  5, 24, 25, 15, 24, 21, 25, 25,\n",
       "       19,  7, 18, 24, 20, 19, 24,  3,  9,  0,  0, 23,  0,  0, 25, 25, 25,\n",
       "       25, 25, 25, 25, 25, 25, 25, 24, 25,  8,  5, 22, 17, 22,  0, 18,  0,\n",
       "        0, 18,  0,  0, 25, 25, 25, 25, 25, 25, 25, 25, 25, 25, 19, 17, 25,\n",
       "       25, 11,  8, 18, 16,  7,  0,  0, 13,  7,  0, 16, 25, 25, 25, 25, 25,\n",
       "       25, 25, 25, 25, 15, 20, 22, 23, 25,  5, 18,  5, 18,  0,  0, 17,  0,\n",
       "        0, 25, 25, 25, 25, 25, 25, 25, 25, 25, 25, 25, 19, 17, 15, 23, 24,\n",
       "       25, 12, 12,  0,  0, 15,  0,  0, 25, 25, 25, 25, 25, 25, 25, 25, 25,\n",
       "       25, 25, 25, 24, 22, 14, 12, 25,  6, 11,  0,  0, 17,  2,  0, 25, 25,\n",
       "       25, 25, 25, 25, 25, 25, 25, 25, 24, 10, 14,  3, 23,  7, 21, 17, 17,\n",
       "        0,  0, 16,  0,  0, 25, 25, 25, 25, 25, 24, 25, 25, 25, 25, 20, 10,\n",
       "        6, 23, 24, 25, 11, 25, 19,  0,  0, 15,  0,  0, 19, 24, 25, 25, 25,\n",
       "       25, 25, 25, 25, 25, 10, 23, 13, 14, 13, 22, 16, 16,  8,  0,  0,  0,\n",
       "        0,  0, 21, 23, 22, 25, 25, 25, 25, 25, 25, 25, 25, 16, 19, 17, 20,\n",
       "       20, 24, 15, 12,  0,  0,  6,  0,  0, 25, 25, 25, 25, 25, 25, 25, 25,\n",
       "       25, 25, 25, 12, 25, 19,  9, 25, 25, 12, 17,  0,  0, 25,  0,  0, 25,\n",
       "       25, 25, 25, 25, 25, 25, 25, 25, 25, 24, 18, 19, 16, 11])"
      ]
     },
     "execution_count": 133,
     "metadata": {},
     "output_type": "execute_result"
    }
   ],
   "source": [
    "np.sum(MRT.mask,axis=(1,2))[:1000]"
   ]
  },
  {
   "cell_type": "code",
   "execution_count": 121,
   "metadata": {},
   "outputs": [
    {
     "ename": "TypeError",
     "evalue": "type MaskedConstant doesn't define __round__ method",
     "output_type": "error",
     "traceback": [
      "\u001b[0;31m---------------------------------------------------------------------------\u001b[0m",
      "\u001b[0;31mTypeError\u001b[0m                                 Traceback (most recent call last)",
      "\u001b[0;32m<ipython-input-121-30ec34da6bff>\u001b[0m in \u001b[0;36m<module>\u001b[0;34m\u001b[0m\n\u001b[1;32m     10\u001b[0m \u001b[0;31m#             if T.mask[i+1,j,k] == False and MRT.mask[i,j,k] == False and wspd.mask[i+1,j,k] == False and rh.mask[i+1,j,k] == False:\u001b[0m\u001b[0;34m\u001b[0m\u001b[0;34m\u001b[0m\u001b[0;34m\u001b[0m\u001b[0m\n\u001b[1;32m     11\u001b[0m \u001b[0;34m\u001b[0m\u001b[0m\n\u001b[0;32m---> 12\u001b[0;31m                 \u001b[0mUTCI\u001b[0m\u001b[0;34m[\u001b[0m\u001b[0mi\u001b[0m\u001b[0;34m,\u001b[0m\u001b[0mj\u001b[0m\u001b[0;34m,\u001b[0m\u001b[0mk\u001b[0m\u001b[0;34m]\u001b[0m \u001b[0;34m=\u001b[0m \u001b[0mutci\u001b[0m\u001b[0;34m(\u001b[0m\u001b[0mT\u001b[0m\u001b[0;34m[\u001b[0m\u001b[0mi\u001b[0m\u001b[0;34m+\u001b[0m\u001b[0;36m1\u001b[0m\u001b[0;34m,\u001b[0m\u001b[0mj\u001b[0m\u001b[0;34m,\u001b[0m\u001b[0mk\u001b[0m\u001b[0;34m]\u001b[0m\u001b[0;34m,\u001b[0m\u001b[0mMRT\u001b[0m\u001b[0;34m[\u001b[0m\u001b[0mi\u001b[0m\u001b[0;34m,\u001b[0m\u001b[0mj\u001b[0m\u001b[0;34m,\u001b[0m\u001b[0mk\u001b[0m\u001b[0;34m]\u001b[0m\u001b[0;34m,\u001b[0m\u001b[0mwspd\u001b[0m\u001b[0;34m[\u001b[0m\u001b[0mi\u001b[0m\u001b[0;34m+\u001b[0m\u001b[0;36m1\u001b[0m\u001b[0;34m,\u001b[0m\u001b[0mj\u001b[0m\u001b[0;34m,\u001b[0m\u001b[0mk\u001b[0m\u001b[0;34m]\u001b[0m\u001b[0;34m,\u001b[0m\u001b[0mrh\u001b[0m\u001b[0;34m[\u001b[0m\u001b[0mi\u001b[0m\u001b[0;34m+\u001b[0m\u001b[0;36m1\u001b[0m\u001b[0;34m,\u001b[0m\u001b[0mj\u001b[0m\u001b[0;34m,\u001b[0m\u001b[0mk\u001b[0m\u001b[0;34m]\u001b[0m\u001b[0;34m)\u001b[0m\u001b[0;34m\u001b[0m\u001b[0;34m\u001b[0m\u001b[0m\n\u001b[0m\u001b[1;32m     13\u001b[0m                 \u001b[0mUTCIwind\u001b[0m\u001b[0;34m[\u001b[0m\u001b[0mi\u001b[0m\u001b[0;34m,\u001b[0m\u001b[0mj\u001b[0m\u001b[0;34m,\u001b[0m\u001b[0mk\u001b[0m\u001b[0;34m]\u001b[0m \u001b[0;34m=\u001b[0m \u001b[0mutci\u001b[0m\u001b[0;34m(\u001b[0m\u001b[0mT\u001b[0m\u001b[0;34m[\u001b[0m\u001b[0mi\u001b[0m\u001b[0;34m+\u001b[0m\u001b[0;36m1\u001b[0m\u001b[0;34m,\u001b[0m\u001b[0mj\u001b[0m\u001b[0;34m,\u001b[0m\u001b[0mk\u001b[0m\u001b[0;34m]\u001b[0m\u001b[0;34m,\u001b[0m\u001b[0mT\u001b[0m\u001b[0;34m[\u001b[0m\u001b[0mi\u001b[0m\u001b[0;34m+\u001b[0m\u001b[0;36m1\u001b[0m\u001b[0;34m,\u001b[0m\u001b[0mj\u001b[0m\u001b[0;34m,\u001b[0m\u001b[0mk\u001b[0m\u001b[0;34m]\u001b[0m\u001b[0;34m,\u001b[0m\u001b[0mwspd\u001b[0m\u001b[0;34m[\u001b[0m\u001b[0mi\u001b[0m\u001b[0;34m+\u001b[0m\u001b[0;36m1\u001b[0m\u001b[0;34m,\u001b[0m\u001b[0mj\u001b[0m\u001b[0;34m,\u001b[0m\u001b[0mk\u001b[0m\u001b[0;34m]\u001b[0m\u001b[0;34m,\u001b[0m\u001b[0;36m50\u001b[0m\u001b[0;34m)\u001b[0m\u001b[0;34m\u001b[0m\u001b[0;34m\u001b[0m\u001b[0m\n\u001b[1;32m     14\u001b[0m                 \u001b[0mUTCIrh\u001b[0m\u001b[0;34m[\u001b[0m\u001b[0mi\u001b[0m\u001b[0;34m,\u001b[0m\u001b[0mj\u001b[0m\u001b[0;34m,\u001b[0m\u001b[0mk\u001b[0m\u001b[0;34m]\u001b[0m \u001b[0;34m=\u001b[0m \u001b[0mutci\u001b[0m\u001b[0;34m(\u001b[0m\u001b[0mT\u001b[0m\u001b[0;34m[\u001b[0m\u001b[0mi\u001b[0m\u001b[0;34m+\u001b[0m\u001b[0;36m1\u001b[0m\u001b[0;34m,\u001b[0m\u001b[0mj\u001b[0m\u001b[0;34m,\u001b[0m\u001b[0mk\u001b[0m\u001b[0;34m]\u001b[0m\u001b[0;34m,\u001b[0m\u001b[0mT\u001b[0m\u001b[0;34m[\u001b[0m\u001b[0mi\u001b[0m\u001b[0;34m+\u001b[0m\u001b[0;36m1\u001b[0m\u001b[0;34m,\u001b[0m\u001b[0mj\u001b[0m\u001b[0;34m,\u001b[0m\u001b[0mk\u001b[0m\u001b[0;34m]\u001b[0m\u001b[0;34m,\u001b[0m\u001b[0;36m0.5\u001b[0m\u001b[0;34m,\u001b[0m\u001b[0mrh\u001b[0m\u001b[0;34m[\u001b[0m\u001b[0mi\u001b[0m\u001b[0;34m+\u001b[0m\u001b[0;36m1\u001b[0m\u001b[0;34m,\u001b[0m\u001b[0mj\u001b[0m\u001b[0;34m,\u001b[0m\u001b[0mk\u001b[0m\u001b[0;34m]\u001b[0m\u001b[0;34m)\u001b[0m\u001b[0;34m\u001b[0m\u001b[0;34m\u001b[0m\u001b[0m\n",
      "\u001b[0;32m~/miniconda3/lib/python3.7/site-packages/pythermalcomfort/models.py\u001b[0m in \u001b[0;36mutci\u001b[0;34m(tdb, tr, v, rh, units)\u001b[0m\n\u001b[1;32m   1442\u001b[0m         \u001b[0mutci_approx\u001b[0m \u001b[0;34m=\u001b[0m \u001b[0munits_converter\u001b[0m\u001b[0;34m(\u001b[0m\u001b[0mtmp\u001b[0m\u001b[0;34m=\u001b[0m\u001b[0mutci_approx\u001b[0m\u001b[0;34m,\u001b[0m \u001b[0mfrom_units\u001b[0m\u001b[0;34m=\u001b[0m\u001b[0;34m\"si\"\u001b[0m\u001b[0;34m)\u001b[0m\u001b[0;34m[\u001b[0m\u001b[0;36m0\u001b[0m\u001b[0;34m]\u001b[0m\u001b[0;34m\u001b[0m\u001b[0;34m\u001b[0m\u001b[0m\n\u001b[1;32m   1443\u001b[0m \u001b[0;34m\u001b[0m\u001b[0m\n\u001b[0;32m-> 1444\u001b[0;31m     \u001b[0;32mreturn\u001b[0m \u001b[0mround\u001b[0m\u001b[0;34m(\u001b[0m\u001b[0mutci_approx\u001b[0m\u001b[0;34m,\u001b[0m \u001b[0;36m1\u001b[0m\u001b[0;34m)\u001b[0m\u001b[0;34m\u001b[0m\u001b[0;34m\u001b[0m\u001b[0m\n\u001b[0m\u001b[1;32m   1445\u001b[0m \u001b[0;34m\u001b[0m\u001b[0m\n\u001b[1;32m   1446\u001b[0m \u001b[0;34m\u001b[0m\u001b[0m\n",
      "\u001b[0;31mTypeError\u001b[0m: type MaskedConstant doesn't define __round__ method"
     ]
    }
   ],
   "source": [
    "## COMPUTE UTCI\n",
    "UTCI = np.zeros_like(MRT)        # UTCI\n",
    "UTCIwind = np.zeros_like(MRT)    # UTCI with wind varying only, other variables default\n",
    "UTCIrh = np.zeros_like(MRT)      # UTCI with relative humidity only, other variables default\n",
    "UTCImrt = np.zeros_like(MRT)     # UTCI with radiation only, other variables default\n",
    "\n",
    "for i in range(UTCI.shape[0]):\n",
    "    for j in range(UTCI.shape[1]):\n",
    "        for k in range(UTCI.shape[2]):\n",
    "#             if T.mask[i+1,j,k] == False and MRT.mask[i,j,k] == False and wspd.mask[i+1,j,k] == False and rh.mask[i+1,j,k] == False:\n",
    "                \n",
    "                UTCI[i,j,k] = utci(T[i+1,j,k],MRT[i,j,k],wspd[i+1,j,k],rh[i+1,j,k])\n",
    "                UTCIwind[i,j,k] = utci(T[i+1,j,k],T[i+1,j,k],wspd[i+1,j,k],50)\n",
    "                UTCIrh[i,j,k] = utci(T[i+1,j,k],T[i+1,j,k],0.5,rh[i+1,j,k])\n",
    "                UTCImrt[i,j,k] = utci(T[i+1,j,k],MRT[i,j,k],0.5,50)"
   ]
  },
  {
   "cell_type": "code",
   "execution_count": 107,
   "metadata": {},
   "outputs": [],
   "source": [
    "## SAVE UTCI\n",
    "np.savez(path+filename+\"utci.npz\",time=time,UTCI=UTCI,UTCIwind=UTCIwind,UTCIrh=UTCIrh,UTCImrt=UTCImrt)"
   ]
  },
  {
   "cell_type": "code",
   "execution_count": 108,
   "metadata": {},
   "outputs": [],
   "source": [
    "# preallocate\n",
    "ndays = (tend-tstart).days + 1\n",
    "UTCI_dailymax = np.zeros(ndays)      # in the central grid box\n",
    "UTCI_dailymean = np.zeros(ndays)\n",
    "UTCI_3daymean = np.zeros(ndays)\n",
    "UTCI_dailydiff = np.zeros(ndays)\n",
    "\n",
    "# uncertainty\n",
    "UTCI_dailymax0 = np.zeros(ndays)     # lowest max value in any grid box\n",
    "UTCI_dailymax1 = np.zeros(ndays)     # highest max value in any grid box\n",
    "\n",
    "UTCI_dailymean0 = np.zeros(ndays)    # highest mean value in any grid box\n",
    "UTCI_dailymean1 = np.zeros(ndays)    # lowest max value in any grid box\n",
    "\n",
    "UTCI_3daymean0 = np.zeros(ndays)     # lowest 3day mean value in any grid box\n",
    "UTCI_3daymean1 = np.zeros(ndays)     # highest 3day mean value in any grid box\n",
    "\n",
    "UTCI_dailydiff0 = np.zeros(ndays)    # lowest daily difference in mean UTCI in any grid box\n",
    "UTCI_dailydiff1 = np.zeros(ndays)    # highest daily difference in mean UTCI in any grid box"
   ]
  },
  {
   "cell_type": "code",
   "execution_count": 109,
   "metadata": {},
   "outputs": [],
   "source": [
    "# UTCI daily maximum and mean\n",
    "for i in range(ndays):\n",
    "    # pick data from respective day 9:00 to 21:00 local time\n",
    "    itd = datetime.timedelta(days=i)\n",
    "    iday = [t.date() == (tstart+itd).date() and t.hour > 8 and t.hour < 22 for t in time[1:]]\n",
    "    UTCI_dailymax[i] = np.max(UTCI[iday,2,2])\n",
    "    UTCI_dailymean[i] = np.mean(UTCI[iday,2,2])\n",
    "    \n",
    "    UTCI_dailymax0[i] = np.min(np.max(UTCI[iday,:,:],axis=0))\n",
    "    UTCI_dailymax1[i] = np.max(np.max(UTCI[iday,:,:],axis=0))\n",
    "    \n",
    "    UTCI_dailymean0[i] = np.min(np.mean(UTCI[iday,:,:],axis=0))\n",
    "    UTCI_dailymean1[i] = np.max(np.mean(UTCI[iday,:,:],axis=0))\n",
    "    \n",
    "    # 3-day mean\n",
    "    # pick data from days i,i-1,i-2 at 9:00 to 21:00\n",
    "    itd0 = datetime.timedelta(days=i-2)\n",
    "    \n",
    "    iday = [t.date() <= (tstart+itd).date() and\n",
    "            t.date() >= (tstart+itd0).date() and\n",
    "            t.hour > 8 and t.hour < 22 for t in time[1:]]\n",
    "    \n",
    "    UTCI_3daymean[i] = np.mean(UTCI[iday,2,2])\n",
    "    UTCI_3daymean0[i] = np.min(np.mean(UTCI[iday,:,:],axis=0))\n",
    "    UTCI_3daymean1[i] = np.max(np.mean(UTCI[iday,:,:],axis=0))\n",
    "    \n",
    "    # difference daily mean UTCI to previous day\n",
    "    iday = [t.date() == (tstart+itd).date() and t.hour > 8 and t.hour < 22 for t in time[1:]]\n",
    "    itd1 = datetime.timedelta(days=i-1)\n",
    "    iprevday = [t.date() == (tstart+itd1).date() and t.hour > 8 and t.hour < 22 for t in time[1:]]\n",
    "    \n",
    "    UTCI_dailydiff[i] = np.mean(UTCI[iday,2,2]) - np.mean(UTCI[iprevday,2,2])\n",
    "    UTCI_dailydiff0[i] = np.min(np.mean(UTCI[iday,:,:],axis=0) - np.mean(UTCI[iprevday,:,:],axis=0))\n",
    "    UTCI_dailydiff1[i] = np.max(np.mean(UTCI[iday,:,:],axis=0) - np.mean(UTCI[iprevday,:,:],axis=0))\n",
    "    "
   ]
  },
  {
   "cell_type": "code",
   "execution_count": 110,
   "metadata": {},
   "outputs": [
    {
     "data": {
      "text/plain": [
       "array([33.6, 36.5, 37.1, 36.8, 25.6, 21.6, 29.6])"
      ]
     },
     "execution_count": 110,
     "metadata": {},
     "output_type": "execute_result"
    }
   ],
   "source": [
    "UTCI_dailymax"
   ]
  },
  {
   "cell_type": "code",
   "execution_count": 111,
   "metadata": {},
   "outputs": [],
   "source": [
    "# SAVE TO NPZ\n",
    "np.savez(path+filename+\"utci_daily.npz\",UTCI_dailymax=UTCI_dailymax,\n",
    "                                         UTCI_dailymean=UTCI_dailymean,\n",
    "                                         UTCI_3daymean=UTCI_3daymean,\n",
    "                                         UTCI_dailydiff=UTCI_dailydiff,\n",
    "                                         UTCI_dailymax0=UTCI_dailymax0,\n",
    "                                         UTCI_dailymax1=UTCI_dailymax1,\n",
    "                                         UTCI_dailymean0=UTCI_dailymean0,\n",
    "                                         UTCI_dailymean1=UTCI_dailymean1,\n",
    "                                         UTCI_3daymean0=UTCI_3daymean0,\n",
    "                                         UTCI_3daymean1=UTCI_3daymean1,\n",
    "                                         UTCI_dailydiff0=UTCI_dailydiff0,\n",
    "                                         UTCI_dailydiff1=UTCI_dailydiff1)"
   ]
  },
  {
   "cell_type": "code",
   "execution_count": 112,
   "metadata": {},
   "outputs": [],
   "source": [
    "# SAVE TO CSV\n",
    "fileout = open(path+\"csv/\"+filename+\"utci_daily.csv\",\"w\")\n",
    "fileout.write(\"Date,Day,Daily maximum UTCI [˚C],Daily mean UTCI [˚C],3-day mean UTCI [˚C],daily difference mean UTCI [˚C]\\n\")\n",
    "for i in range(ndays):\n",
    "    itd = datetime.timedelta(days=i)\n",
    "    s = \",\".join([str((tstart+itd).date()),\n",
    "                  \"{}\".format(i+1),\n",
    "                  \"{:.4f}\".format(UTCI_dailymax[i]),\n",
    "                  \"{:.4f}\".format(UTCI_dailymean[i]),\n",
    "                  \"{:.4f}\".format(UTCI_3daymean[i]),\n",
    "                  \"{:.4f}\".format(UTCI_dailydiff[i])])\n",
    "    fileout.write(s+\"\\n\")\n",
    "\n",
    "fileout.close()"
   ]
  },
  {
   "cell_type": "code",
   "execution_count": null,
   "metadata": {},
   "outputs": [],
   "source": []
  }
 ],
 "metadata": {
  "kernelspec": {
   "display_name": "Python 3",
   "language": "python",
   "name": "python3"
  },
  "language_info": {
   "codemirror_mode": {
    "name": "ipython",
    "version": 3
   },
   "file_extension": ".py",
   "mimetype": "text/x-python",
   "name": "python",
   "nbconvert_exporter": "python",
   "pygments_lexer": "ipython3",
   "version": "3.7.7"
  }
 },
 "nbformat": 4,
 "nbformat_minor": 4
}
